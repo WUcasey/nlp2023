{
  "nbformat": 4,
  "nbformat_minor": 0,
  "metadata": {
    "colab": {
      "provenance": []
    },
    "kernelspec": {
      "name": "python3",
      "display_name": "Python 3"
    },
    "language_info": {
      "name": "python"
    }
  },
  "cells": [
    {
      "cell_type": "markdown",
      "source": [
        "## Lab#4, NLP@CGU Spring 2023\n",
        "\n",
        "### This is due on 2023/04/20 16:00, commit to your github as a PDF (lab4.pdf) (File>Print>Save as PDF). \n",
        "\n",
        "#### IMPORTANT: After copying this notebook to your Google Drive, please paste a link to it below. To get a publicly-accessible link, hit the *Share* button at the top right, then click \"Get shareable link\" and copy over the result. If you fail to do this, you will receive no credit for this lab!\n",
        "\n",
        "***LINK: *paste your link here****\n",
        "####https://colab.research.google.com/drive/xxxxxxxxx\n",
        "---"
      ],
      "metadata": {
        "id": "OTWH1xZGLRYW"
      }
    },
    {
      "cell_type": "markdown",
      "source": [
        "**Student ID**:B0929038\n",
        "\n",
        "**Name**:吳安捷\n",
        "\n"
      ],
      "metadata": {
        "id": "uHWduUSsLeLV"
      }
    },
    {
      "cell_type": "markdown",
      "source": [
        "#Word Embeddings for text classification\n",
        "## 請訓練一個 kNN或是SVM 分類器來和 Google's Universal Sentence Encoder (a fixed-length 512-dimension embedding) 的分類結果比較"
      ],
      "metadata": {
        "id": "vXofg_MoMP_2"
      }
    },
    {
      "cell_type": "code",
      "source": [
        "!wget -O Dcard.db https://github.com/cjwu/cjwu.github.io/raw/master/courses/nlp2023/lab4-Dcard-Dataset.db"
      ],
      "metadata": {
        "id": "BVEub8HUI5fo",
        "colab": {
          "base_uri": "https://localhost:8080/"
        },
        "outputId": "efe484b6-16dd-410a-bdf4-0de6815537e2"
      },
      "execution_count": 1,
      "outputs": [
        {
          "output_type": "stream",
          "name": "stdout",
          "text": [
            "--2023-04-24 06:59:57--  https://github.com/cjwu/cjwu.github.io/raw/master/courses/nlp2023/lab4-Dcard-Dataset.db\n",
            "Resolving github.com (github.com)... 140.82.113.3\n",
            "Connecting to github.com (github.com)|140.82.113.3|:443... connected.\n",
            "HTTP request sent, awaiting response... 302 Found\n",
            "Location: https://raw.githubusercontent.com/cjwu/cjwu.github.io/master/courses/nlp2023/lab4-Dcard-Dataset.db [following]\n",
            "--2023-04-24 06:59:57--  https://raw.githubusercontent.com/cjwu/cjwu.github.io/master/courses/nlp2023/lab4-Dcard-Dataset.db\n",
            "Resolving raw.githubusercontent.com (raw.githubusercontent.com)... 185.199.108.133, 185.199.109.133, 185.199.110.133, ...\n",
            "Connecting to raw.githubusercontent.com (raw.githubusercontent.com)|185.199.108.133|:443... connected.\n",
            "HTTP request sent, awaiting response... 200 OK\n",
            "Length: 151552 (148K) [application/octet-stream]\n",
            "Saving to: ‘Dcard.db’\n",
            "\n",
            "Dcard.db            100%[===================>] 148.00K  --.-KB/s    in 0.03s   \n",
            "\n",
            "2023-04-24 06:59:58 (5.65 MB/s) - ‘Dcard.db’ saved [151552/151552]\n",
            "\n"
          ]
        }
      ]
    },
    {
      "cell_type": "code",
      "source": [
        "import sqlite3\n",
        "import pandas as pd\n",
        "\n",
        "conn = sqlite3.connect(\"Dcard.db\")  \n",
        "df = pd.read_sql(\"SELECT * FROM Posts;\", conn)\n",
        "df"
      ],
      "metadata": {
        "colab": {
          "base_uri": "https://localhost:8080/",
          "height": 641
        },
        "id": "JWXUpI2cJBao",
        "outputId": "5f6aaa6d-d5c9-45a6-b07e-ee8a766bedb2"
      },
      "execution_count": 2,
      "outputs": [
        {
          "output_type": "execute_result",
          "data": {
            "text/plain": [
              "                    createdAt                       title  \\\n",
              "0    2022-03-04T07:54:19.886Z                 專題需要數據🥺🥺幫填～   \n",
              "1    2022-03-04T07:42:59.512Z                    #詢問 找衣服🥲   \n",
              "2    2022-03-04T07:24:25.147Z  #黑特 網購50% FIFTY PERCENT請三思   \n",
              "3    2022-03-04T06:39:13.017Z                         尋衣服   \n",
              "4    2022-03-04T06:28:06.137Z                      #詢問 想問   \n",
              "..                        ...                         ...   \n",
              "355  2022-03-03T03:41:10.972Z                       開了新頻道   \n",
              "356  2022-03-03T02:26:58.821Z         估計某個YTUBER又有陰謀論可以寫了   \n",
              "357  2022-03-02T21:25:51.080Z             #問 阿神和放火發生過什麼嗎？   \n",
              "358  2022-03-02T20:33:47.713Z          #文長 我眼中的Rice&Shine   \n",
              "359  2022-03-02T17:52:26.967Z              一個隨性系YouTube頻道   \n",
              "\n",
              "                                               excerpt categories  \\\n",
              "0                                      希望各位能花個20秒幫我填一下              \n",
              "1              想找這套衣服🥲，但發現不知道該用什麼關鍵字找，（圖是草屯囝仔的校園演唱會截圖）         詢問   \n",
              "2    因為文會有點長，先說結論是，50%是目前網購過的平台退貨最麻煩的一家，甚至我認為根本是刻意刁...              \n",
              "3                           來源：覺得呱吉這襯衫好好看~~，或有人知道有類似的嗎              \n",
              "4    各位，因為這個證件夾臺灣買不到，是美國outlet 的限量版貨，所以在以下的這間蝦皮上買，但...         詢問   \n",
              "..                                                 ...        ...   \n",
              "355  昨天上了第一支影片，之前有發過沒有線條的動畫影片，新的頻道改成有線條的，感覺大家好像比較喜歡...              \n",
              "356     今天全台灣大停電，應該過幾天就會有個戴面具的出來說，一定是中共……，我從上個影片就預測了……              \n",
              "357  想問有沒有人知道阿神和放火是認識還是有結過什麼仇之類的嗎？首先我個人基本沒關注過放火，但是最...              \n",
              "358  無意引戰，單純分享我的觀察與個人想法～這幾天看了Dcard幾篇關於Rice& Shine的貼...              \n",
              "359  哈哈哈哈，沒錯我就是親友團來介紹一個我覺得很北七的頻道，現在觀看真的低的可憐，也沒事啦，就多...              \n",
              "\n",
              "                                              topics  forum_en  forum_zh  \n",
              "0                                                      dressup        穿搭  \n",
              "1                           衣服 | 鞋子 | 衣物 | 男生穿搭 | 尋找   dressup        穿搭  \n",
              "2                           黑特 | 網購 | 三思 | 退貨 | 售後服務   dressup        穿搭  \n",
              "3                              衣服 | 尋找 | 日常穿搭 | 男生穿搭   dressup        穿搭  \n",
              "4                               穿搭 | 閒聊版 | 閒聊排解 | 假貨   dressup        穿搭  \n",
              "..                                               ...       ...       ...  \n",
              "355                     Youtuber | 頻道 | 有趣 | 日常 | 搞笑  youtuber  YouTuber  \n",
              "356                                   陰謀論 | Youtuber  youtuber  YouTuber  \n",
              "357                               Youtuber | 放火 | 阿神  youtuber  YouTuber  \n",
              "358  Riceandshine | Youtuber | 生活 | Vlog | youtuber板  youtuber  YouTuber  \n",
              "359                               Youtuber | 美食 | 有趣  youtuber  YouTuber  \n",
              "\n",
              "[360 rows x 7 columns]"
            ],
            "text/html": [
              "\n",
              "  <div id=\"df-4e80df23-c33a-4f34-a1c9-9ae82904d4a7\">\n",
              "    <div class=\"colab-df-container\">\n",
              "      <div>\n",
              "<style scoped>\n",
              "    .dataframe tbody tr th:only-of-type {\n",
              "        vertical-align: middle;\n",
              "    }\n",
              "\n",
              "    .dataframe tbody tr th {\n",
              "        vertical-align: top;\n",
              "    }\n",
              "\n",
              "    .dataframe thead th {\n",
              "        text-align: right;\n",
              "    }\n",
              "</style>\n",
              "<table border=\"1\" class=\"dataframe\">\n",
              "  <thead>\n",
              "    <tr style=\"text-align: right;\">\n",
              "      <th></th>\n",
              "      <th>createdAt</th>\n",
              "      <th>title</th>\n",
              "      <th>excerpt</th>\n",
              "      <th>categories</th>\n",
              "      <th>topics</th>\n",
              "      <th>forum_en</th>\n",
              "      <th>forum_zh</th>\n",
              "    </tr>\n",
              "  </thead>\n",
              "  <tbody>\n",
              "    <tr>\n",
              "      <th>0</th>\n",
              "      <td>2022-03-04T07:54:19.886Z</td>\n",
              "      <td>專題需要數據🥺🥺幫填～</td>\n",
              "      <td>希望各位能花個20秒幫我填一下</td>\n",
              "      <td></td>\n",
              "      <td></td>\n",
              "      <td>dressup</td>\n",
              "      <td>穿搭</td>\n",
              "    </tr>\n",
              "    <tr>\n",
              "      <th>1</th>\n",
              "      <td>2022-03-04T07:42:59.512Z</td>\n",
              "      <td>#詢問 找衣服🥲</td>\n",
              "      <td>想找這套衣服🥲，但發現不知道該用什麼關鍵字找，（圖是草屯囝仔的校園演唱會截圖）</td>\n",
              "      <td>詢問</td>\n",
              "      <td>衣服 | 鞋子 | 衣物 | 男生穿搭 | 尋找</td>\n",
              "      <td>dressup</td>\n",
              "      <td>穿搭</td>\n",
              "    </tr>\n",
              "    <tr>\n",
              "      <th>2</th>\n",
              "      <td>2022-03-04T07:24:25.147Z</td>\n",
              "      <td>#黑特 網購50% FIFTY PERCENT請三思</td>\n",
              "      <td>因為文會有點長，先說結論是，50%是目前網購過的平台退貨最麻煩的一家，甚至我認為根本是刻意刁...</td>\n",
              "      <td></td>\n",
              "      <td>黑特 | 網購 | 三思 | 退貨 | 售後服務</td>\n",
              "      <td>dressup</td>\n",
              "      <td>穿搭</td>\n",
              "    </tr>\n",
              "    <tr>\n",
              "      <th>3</th>\n",
              "      <td>2022-03-04T06:39:13.017Z</td>\n",
              "      <td>尋衣服</td>\n",
              "      <td>來源：覺得呱吉這襯衫好好看~~，或有人知道有類似的嗎</td>\n",
              "      <td></td>\n",
              "      <td>衣服 | 尋找 | 日常穿搭 | 男生穿搭</td>\n",
              "      <td>dressup</td>\n",
              "      <td>穿搭</td>\n",
              "    </tr>\n",
              "    <tr>\n",
              "      <th>4</th>\n",
              "      <td>2022-03-04T06:28:06.137Z</td>\n",
              "      <td>#詢問 想問</td>\n",
              "      <td>各位，因為這個證件夾臺灣買不到，是美國outlet 的限量版貨，所以在以下的這間蝦皮上買，但...</td>\n",
              "      <td>詢問</td>\n",
              "      <td>穿搭 | 閒聊版 | 閒聊排解 | 假貨</td>\n",
              "      <td>dressup</td>\n",
              "      <td>穿搭</td>\n",
              "    </tr>\n",
              "    <tr>\n",
              "      <th>...</th>\n",
              "      <td>...</td>\n",
              "      <td>...</td>\n",
              "      <td>...</td>\n",
              "      <td>...</td>\n",
              "      <td>...</td>\n",
              "      <td>...</td>\n",
              "      <td>...</td>\n",
              "    </tr>\n",
              "    <tr>\n",
              "      <th>355</th>\n",
              "      <td>2022-03-03T03:41:10.972Z</td>\n",
              "      <td>開了新頻道</td>\n",
              "      <td>昨天上了第一支影片，之前有發過沒有線條的動畫影片，新的頻道改成有線條的，感覺大家好像比較喜歡...</td>\n",
              "      <td></td>\n",
              "      <td>Youtuber | 頻道 | 有趣 | 日常 | 搞笑</td>\n",
              "      <td>youtuber</td>\n",
              "      <td>YouTuber</td>\n",
              "    </tr>\n",
              "    <tr>\n",
              "      <th>356</th>\n",
              "      <td>2022-03-03T02:26:58.821Z</td>\n",
              "      <td>估計某個YTUBER又有陰謀論可以寫了</td>\n",
              "      <td>今天全台灣大停電，應該過幾天就會有個戴面具的出來說，一定是中共……，我從上個影片就預測了……</td>\n",
              "      <td></td>\n",
              "      <td>陰謀論 | Youtuber</td>\n",
              "      <td>youtuber</td>\n",
              "      <td>YouTuber</td>\n",
              "    </tr>\n",
              "    <tr>\n",
              "      <th>357</th>\n",
              "      <td>2022-03-02T21:25:51.080Z</td>\n",
              "      <td>#問 阿神和放火發生過什麼嗎？</td>\n",
              "      <td>想問有沒有人知道阿神和放火是認識還是有結過什麼仇之類的嗎？首先我個人基本沒關注過放火，但是最...</td>\n",
              "      <td></td>\n",
              "      <td>Youtuber | 放火 | 阿神</td>\n",
              "      <td>youtuber</td>\n",
              "      <td>YouTuber</td>\n",
              "    </tr>\n",
              "    <tr>\n",
              "      <th>358</th>\n",
              "      <td>2022-03-02T20:33:47.713Z</td>\n",
              "      <td>#文長 我眼中的Rice&amp;Shine</td>\n",
              "      <td>無意引戰，單純分享我的觀察與個人想法～這幾天看了Dcard幾篇關於Rice&amp; Shine的貼...</td>\n",
              "      <td></td>\n",
              "      <td>Riceandshine | Youtuber | 生活 | Vlog | youtuber板</td>\n",
              "      <td>youtuber</td>\n",
              "      <td>YouTuber</td>\n",
              "    </tr>\n",
              "    <tr>\n",
              "      <th>359</th>\n",
              "      <td>2022-03-02T17:52:26.967Z</td>\n",
              "      <td>一個隨性系YouTube頻道</td>\n",
              "      <td>哈哈哈哈，沒錯我就是親友團來介紹一個我覺得很北七的頻道，現在觀看真的低的可憐，也沒事啦，就多...</td>\n",
              "      <td></td>\n",
              "      <td>Youtuber | 美食 | 有趣</td>\n",
              "      <td>youtuber</td>\n",
              "      <td>YouTuber</td>\n",
              "    </tr>\n",
              "  </tbody>\n",
              "</table>\n",
              "<p>360 rows × 7 columns</p>\n",
              "</div>\n",
              "      <button class=\"colab-df-convert\" onclick=\"convertToInteractive('df-4e80df23-c33a-4f34-a1c9-9ae82904d4a7')\"\n",
              "              title=\"Convert this dataframe to an interactive table.\"\n",
              "              style=\"display:none;\">\n",
              "        \n",
              "  <svg xmlns=\"http://www.w3.org/2000/svg\" height=\"24px\"viewBox=\"0 0 24 24\"\n",
              "       width=\"24px\">\n",
              "    <path d=\"M0 0h24v24H0V0z\" fill=\"none\"/>\n",
              "    <path d=\"M18.56 5.44l.94 2.06.94-2.06 2.06-.94-2.06-.94-.94-2.06-.94 2.06-2.06.94zm-11 1L8.5 8.5l.94-2.06 2.06-.94-2.06-.94L8.5 2.5l-.94 2.06-2.06.94zm10 10l.94 2.06.94-2.06 2.06-.94-2.06-.94-.94-2.06-.94 2.06-2.06.94z\"/><path d=\"M17.41 7.96l-1.37-1.37c-.4-.4-.92-.59-1.43-.59-.52 0-1.04.2-1.43.59L10.3 9.45l-7.72 7.72c-.78.78-.78 2.05 0 2.83L4 21.41c.39.39.9.59 1.41.59.51 0 1.02-.2 1.41-.59l7.78-7.78 2.81-2.81c.8-.78.8-2.07 0-2.86zM5.41 20L4 18.59l7.72-7.72 1.47 1.35L5.41 20z\"/>\n",
              "  </svg>\n",
              "      </button>\n",
              "      \n",
              "  <style>\n",
              "    .colab-df-container {\n",
              "      display:flex;\n",
              "      flex-wrap:wrap;\n",
              "      gap: 12px;\n",
              "    }\n",
              "\n",
              "    .colab-df-convert {\n",
              "      background-color: #E8F0FE;\n",
              "      border: none;\n",
              "      border-radius: 50%;\n",
              "      cursor: pointer;\n",
              "      display: none;\n",
              "      fill: #1967D2;\n",
              "      height: 32px;\n",
              "      padding: 0 0 0 0;\n",
              "      width: 32px;\n",
              "    }\n",
              "\n",
              "    .colab-df-convert:hover {\n",
              "      background-color: #E2EBFA;\n",
              "      box-shadow: 0px 1px 2px rgba(60, 64, 67, 0.3), 0px 1px 3px 1px rgba(60, 64, 67, 0.15);\n",
              "      fill: #174EA6;\n",
              "    }\n",
              "\n",
              "    [theme=dark] .colab-df-convert {\n",
              "      background-color: #3B4455;\n",
              "      fill: #D2E3FC;\n",
              "    }\n",
              "\n",
              "    [theme=dark] .colab-df-convert:hover {\n",
              "      background-color: #434B5C;\n",
              "      box-shadow: 0px 1px 3px 1px rgba(0, 0, 0, 0.15);\n",
              "      filter: drop-shadow(0px 1px 2px rgba(0, 0, 0, 0.3));\n",
              "      fill: #FFFFFF;\n",
              "    }\n",
              "  </style>\n",
              "\n",
              "      <script>\n",
              "        const buttonEl =\n",
              "          document.querySelector('#df-4e80df23-c33a-4f34-a1c9-9ae82904d4a7 button.colab-df-convert');\n",
              "        buttonEl.style.display =\n",
              "          google.colab.kernel.accessAllowed ? 'block' : 'none';\n",
              "\n",
              "        async function convertToInteractive(key) {\n",
              "          const element = document.querySelector('#df-4e80df23-c33a-4f34-a1c9-9ae82904d4a7');\n",
              "          const dataTable =\n",
              "            await google.colab.kernel.invokeFunction('convertToInteractive',\n",
              "                                                     [key], {});\n",
              "          if (!dataTable) return;\n",
              "\n",
              "          const docLinkHtml = 'Like what you see? Visit the ' +\n",
              "            '<a target=\"_blank\" href=https://colab.research.google.com/notebooks/data_table.ipynb>data table notebook</a>'\n",
              "            + ' to learn more about interactive tables.';\n",
              "          element.innerHTML = '';\n",
              "          dataTable['output_type'] = 'display_data';\n",
              "          await google.colab.output.renderOutput(dataTable, element);\n",
              "          const docLink = document.createElement('div');\n",
              "          docLink.innerHTML = docLinkHtml;\n",
              "          element.appendChild(docLink);\n",
              "        }\n",
              "      </script>\n",
              "    </div>\n",
              "  </div>\n",
              "  "
            ]
          },
          "metadata": {},
          "execution_count": 2
        }
      ]
    },
    {
      "cell_type": "code",
      "source": [
        "!pip3 install -q tensorflow_text\n",
        "!pip3 install -q faiss-cpu"
      ],
      "metadata": {
        "id": "W_zTHk8XJEFJ",
        "colab": {
          "base_uri": "https://localhost:8080/"
        },
        "outputId": "4087f5bc-5e5d-4c77-e21b-fb1298d4796f"
      },
      "execution_count": 3,
      "outputs": [
        {
          "output_type": "stream",
          "name": "stdout",
          "text": [
            "\u001b[2K     \u001b[90m━━━━━━━━━━━━━━━━━━━━━━━━━━━━━━━━━━━━━━━━\u001b[0m \u001b[32m6.0/6.0 MB\u001b[0m \u001b[31m45.2 MB/s\u001b[0m eta \u001b[36m0:00:00\u001b[0m\n",
            "\u001b[2K     \u001b[90m━━━━━━━━━━━━━━━━━━━━━━━━━━━━━━━━━━━━━━━━\u001b[0m \u001b[32m17.0/17.0 MB\u001b[0m \u001b[31m74.2 MB/s\u001b[0m eta \u001b[36m0:00:00\u001b[0m\n",
            "\u001b[?25h"
          ]
        }
      ]
    },
    {
      "cell_type": "code",
      "source": [
        "import tensorflow_hub as hub \n",
        "import numpy as np\n",
        "import tensorflow_text\n",
        "import faiss\n",
        "\n",
        "embed_model = hub.load(\"https://tfhub.dev/google/universal-sentence-encoder-multilingual/3\")"
      ],
      "metadata": {
        "id": "nqr9fQV_MF2l"
      },
      "execution_count": 4,
      "outputs": []
    },
    {
      "cell_type": "code",
      "source": [
        "docid = 355\n",
        "texts = \"[\" + df['title'] + '] [' + df['topics'] + '] ' + df['excerpt'] \n",
        "texts[docid]"
      ],
      "metadata": {
        "colab": {
          "base_uri": "https://localhost:8080/",
          "height": 54
        },
        "id": "_59KXUQGO9wG",
        "outputId": "89e52877-9027-4e14-c849-df4846a3663a"
      },
      "execution_count": 6,
      "outputs": [
        {
          "output_type": "execute_result",
          "data": {
            "text/plain": [
              "'[開了新頻道] [Youtuber | 頻道 | 有趣 | 日常 | 搞笑] 昨天上了第一支影片，之前有發過沒有線條的動畫影片，新的頻道改成有線條的，感覺大家好像比較喜歡這種風格，試試看新的風格，影片內容主要是分享自己遇到的小故事，不知道這樣的頻道大家是否會想要看呢？喜歡的話也'"
            ],
            "application/vnd.google.colaboratory.intrinsic+json": {
              "type": "string"
            }
          },
          "metadata": {},
          "execution_count": 6
        }
      ]
    },
    {
      "cell_type": "code",
      "source": [
        "embeddings = embed_model(texts)\n",
        "embed_arrays = np.array(embeddings)\n",
        "index_arrays = df.index.values\n",
        "topk = 10\n",
        "# Step 1: Change data type\n",
        "embeddings = embed_arrays.astype(\"float32\")\n",
        "\n",
        "# Step 2: Instantiate the index using a type of distance, which is L2 here\n",
        "index = faiss.IndexFlatL2(embeddings.shape[1]) \n",
        "\n",
        "# Step 3: Pass the index to IndexIDMap\n",
        "index = faiss.IndexIDMap(index)\n",
        "\n",
        "# Step 4: Add vectors and their IDs\n",
        "index.add_with_ids(embeddings, index_arrays)\n",
        "\n",
        "D, I = index.search(np.array([embeddings[docid]]), topk)\n",
        "\n",
        "plabel = df.iloc[docid]['forum_zh']\n",
        "\n",
        "cols_to_show = ['title', 'excerpt', 'forum_zh']\n",
        "plist = df.loc[I.flatten(), cols_to_show]\n",
        "\n",
        "precision = 0\n",
        "for index, row in plist.iterrows():\n",
        "  if plabel == row[\"forum_zh\"]:\n",
        "    precision += 1\n",
        "\n",
        "print(\"precision = \", precision/topk)\n",
        "precision = 0\n",
        "\n",
        "df.loc[I.flatten(), cols_to_show]"
      ],
      "metadata": {
        "colab": {
          "base_uri": "https://localhost:8080/",
          "height": 381
        },
        "id": "pKEvBE5INLVl",
        "outputId": "cbd042ee-21a3-48d1-e8f9-2f052031e868"
      },
      "execution_count": 7,
      "outputs": [
        {
          "output_type": "stream",
          "name": "stdout",
          "text": [
            "precision =  0.8\n"
          ]
        },
        {
          "output_type": "execute_result",
          "data": {
            "text/plain": [
              "               title                                            excerpt  \\\n",
              "355            開了新頻道  昨天上了第一支影片，之前有發過沒有線條的動畫影片，新的頻道改成有線條的，感覺大家好像比較喜歡...   \n",
              "359   一個隨性系YouTube頻道  哈哈哈哈，沒錯我就是親友團來介紹一個我覺得很北七的頻道，現在觀看真的低的可憐，也沒事啦，就多...   \n",
              "330  《庫洛魔法使》（迷你）服裝製作  又來跟大家分享新的作品了~，頻道常常分享 {縫紉}  {服裝製作} 等相關教學，大家對服裝製...   \n",
              "342  自己沒搞清楚狀況就不要亂黑勾惡  勾惡幫主在自己頻道簡介跟每部影片的下方都已經說明了，要分會會長以上才能看全部影片，這個說明已...   \n",
              "338      廚師系YouTuber  友人傳了這篇文給我，我一看，十大廚師系YouTuber，就猜一定有MASA，果不其然，榜上有...   \n",
              "243          毀我童年的家人  小時候都很喜歡看真珠美人魚和守護甜心，但是！！，每次晚餐看電視的時候，只要有播映到這種場景....   \n",
              "349  喜歡看寵物頻道的有嗎？🙋‍♂️                                                      \n",
              "332       #安利 翎週嗎 采翎  如題啦！ 最近突然超愛采翎，以前就很喜歡了，最近越來越愛~~，從之前的呱張新聞到新資料夾到翎...   \n",
              "340        超像Yoyo的啦～  先說，平常會看見習網美小吳的影片，但我不太會去追蹤YT的IG，然後在IG推薦的影片，就看到y...   \n",
              "263    大家熟悉的梗圖主角 昔與今  先貼幾張大家比較熟的，困惑的表情超傳神 🤣，用在比喻木頭男很適合🤣 跟貓咪一起用超好笑，生無...   \n",
              "\n",
              "     forum_zh  \n",
              "355  YouTuber  \n",
              "359  YouTuber  \n",
              "330  YouTuber  \n",
              "342  YouTuber  \n",
              "338  YouTuber  \n",
              "243        有趣  \n",
              "349  YouTuber  \n",
              "332  YouTuber  \n",
              "340  YouTuber  \n",
              "263        有趣  "
            ],
            "text/html": [
              "\n",
              "  <div id=\"df-02dd4ba6-d25f-4c18-8153-27b1e4c3bc4b\">\n",
              "    <div class=\"colab-df-container\">\n",
              "      <div>\n",
              "<style scoped>\n",
              "    .dataframe tbody tr th:only-of-type {\n",
              "        vertical-align: middle;\n",
              "    }\n",
              "\n",
              "    .dataframe tbody tr th {\n",
              "        vertical-align: top;\n",
              "    }\n",
              "\n",
              "    .dataframe thead th {\n",
              "        text-align: right;\n",
              "    }\n",
              "</style>\n",
              "<table border=\"1\" class=\"dataframe\">\n",
              "  <thead>\n",
              "    <tr style=\"text-align: right;\">\n",
              "      <th></th>\n",
              "      <th>title</th>\n",
              "      <th>excerpt</th>\n",
              "      <th>forum_zh</th>\n",
              "    </tr>\n",
              "  </thead>\n",
              "  <tbody>\n",
              "    <tr>\n",
              "      <th>355</th>\n",
              "      <td>開了新頻道</td>\n",
              "      <td>昨天上了第一支影片，之前有發過沒有線條的動畫影片，新的頻道改成有線條的，感覺大家好像比較喜歡...</td>\n",
              "      <td>YouTuber</td>\n",
              "    </tr>\n",
              "    <tr>\n",
              "      <th>359</th>\n",
              "      <td>一個隨性系YouTube頻道</td>\n",
              "      <td>哈哈哈哈，沒錯我就是親友團來介紹一個我覺得很北七的頻道，現在觀看真的低的可憐，也沒事啦，就多...</td>\n",
              "      <td>YouTuber</td>\n",
              "    </tr>\n",
              "    <tr>\n",
              "      <th>330</th>\n",
              "      <td>《庫洛魔法使》（迷你）服裝製作</td>\n",
              "      <td>又來跟大家分享新的作品了~，頻道常常分享 {縫紉}  {服裝製作} 等相關教學，大家對服裝製...</td>\n",
              "      <td>YouTuber</td>\n",
              "    </tr>\n",
              "    <tr>\n",
              "      <th>342</th>\n",
              "      <td>自己沒搞清楚狀況就不要亂黑勾惡</td>\n",
              "      <td>勾惡幫主在自己頻道簡介跟每部影片的下方都已經說明了，要分會會長以上才能看全部影片，這個說明已...</td>\n",
              "      <td>YouTuber</td>\n",
              "    </tr>\n",
              "    <tr>\n",
              "      <th>338</th>\n",
              "      <td>廚師系YouTuber</td>\n",
              "      <td>友人傳了這篇文給我，我一看，十大廚師系YouTuber，就猜一定有MASA，果不其然，榜上有...</td>\n",
              "      <td>YouTuber</td>\n",
              "    </tr>\n",
              "    <tr>\n",
              "      <th>243</th>\n",
              "      <td>毀我童年的家人</td>\n",
              "      <td>小時候都很喜歡看真珠美人魚和守護甜心，但是！！，每次晚餐看電視的時候，只要有播映到這種場景....</td>\n",
              "      <td>有趣</td>\n",
              "    </tr>\n",
              "    <tr>\n",
              "      <th>349</th>\n",
              "      <td>喜歡看寵物頻道的有嗎？🙋‍♂️</td>\n",
              "      <td></td>\n",
              "      <td>YouTuber</td>\n",
              "    </tr>\n",
              "    <tr>\n",
              "      <th>332</th>\n",
              "      <td>#安利 翎週嗎 采翎</td>\n",
              "      <td>如題啦！ 最近突然超愛采翎，以前就很喜歡了，最近越來越愛~~，從之前的呱張新聞到新資料夾到翎...</td>\n",
              "      <td>YouTuber</td>\n",
              "    </tr>\n",
              "    <tr>\n",
              "      <th>340</th>\n",
              "      <td>超像Yoyo的啦～</td>\n",
              "      <td>先說，平常會看見習網美小吳的影片，但我不太會去追蹤YT的IG，然後在IG推薦的影片，就看到y...</td>\n",
              "      <td>YouTuber</td>\n",
              "    </tr>\n",
              "    <tr>\n",
              "      <th>263</th>\n",
              "      <td>大家熟悉的梗圖主角 昔與今</td>\n",
              "      <td>先貼幾張大家比較熟的，困惑的表情超傳神 🤣，用在比喻木頭男很適合🤣 跟貓咪一起用超好笑，生無...</td>\n",
              "      <td>有趣</td>\n",
              "    </tr>\n",
              "  </tbody>\n",
              "</table>\n",
              "</div>\n",
              "      <button class=\"colab-df-convert\" onclick=\"convertToInteractive('df-02dd4ba6-d25f-4c18-8153-27b1e4c3bc4b')\"\n",
              "              title=\"Convert this dataframe to an interactive table.\"\n",
              "              style=\"display:none;\">\n",
              "        \n",
              "  <svg xmlns=\"http://www.w3.org/2000/svg\" height=\"24px\"viewBox=\"0 0 24 24\"\n",
              "       width=\"24px\">\n",
              "    <path d=\"M0 0h24v24H0V0z\" fill=\"none\"/>\n",
              "    <path d=\"M18.56 5.44l.94 2.06.94-2.06 2.06-.94-2.06-.94-.94-2.06-.94 2.06-2.06.94zm-11 1L8.5 8.5l.94-2.06 2.06-.94-2.06-.94L8.5 2.5l-.94 2.06-2.06.94zm10 10l.94 2.06.94-2.06 2.06-.94-2.06-.94-.94-2.06-.94 2.06-2.06.94z\"/><path d=\"M17.41 7.96l-1.37-1.37c-.4-.4-.92-.59-1.43-.59-.52 0-1.04.2-1.43.59L10.3 9.45l-7.72 7.72c-.78.78-.78 2.05 0 2.83L4 21.41c.39.39.9.59 1.41.59.51 0 1.02-.2 1.41-.59l7.78-7.78 2.81-2.81c.8-.78.8-2.07 0-2.86zM5.41 20L4 18.59l7.72-7.72 1.47 1.35L5.41 20z\"/>\n",
              "  </svg>\n",
              "      </button>\n",
              "      \n",
              "  <style>\n",
              "    .colab-df-container {\n",
              "      display:flex;\n",
              "      flex-wrap:wrap;\n",
              "      gap: 12px;\n",
              "    }\n",
              "\n",
              "    .colab-df-convert {\n",
              "      background-color: #E8F0FE;\n",
              "      border: none;\n",
              "      border-radius: 50%;\n",
              "      cursor: pointer;\n",
              "      display: none;\n",
              "      fill: #1967D2;\n",
              "      height: 32px;\n",
              "      padding: 0 0 0 0;\n",
              "      width: 32px;\n",
              "    }\n",
              "\n",
              "    .colab-df-convert:hover {\n",
              "      background-color: #E2EBFA;\n",
              "      box-shadow: 0px 1px 2px rgba(60, 64, 67, 0.3), 0px 1px 3px 1px rgba(60, 64, 67, 0.15);\n",
              "      fill: #174EA6;\n",
              "    }\n",
              "\n",
              "    [theme=dark] .colab-df-convert {\n",
              "      background-color: #3B4455;\n",
              "      fill: #D2E3FC;\n",
              "    }\n",
              "\n",
              "    [theme=dark] .colab-df-convert:hover {\n",
              "      background-color: #434B5C;\n",
              "      box-shadow: 0px 1px 3px 1px rgba(0, 0, 0, 0.15);\n",
              "      filter: drop-shadow(0px 1px 2px rgba(0, 0, 0, 0.3));\n",
              "      fill: #FFFFFF;\n",
              "    }\n",
              "  </style>\n",
              "\n",
              "      <script>\n",
              "        const buttonEl =\n",
              "          document.querySelector('#df-02dd4ba6-d25f-4c18-8153-27b1e4c3bc4b button.colab-df-convert');\n",
              "        buttonEl.style.display =\n",
              "          google.colab.kernel.accessAllowed ? 'block' : 'none';\n",
              "\n",
              "        async function convertToInteractive(key) {\n",
              "          const element = document.querySelector('#df-02dd4ba6-d25f-4c18-8153-27b1e4c3bc4b');\n",
              "          const dataTable =\n",
              "            await google.colab.kernel.invokeFunction('convertToInteractive',\n",
              "                                                     [key], {});\n",
              "          if (!dataTable) return;\n",
              "\n",
              "          const docLinkHtml = 'Like what you see? Visit the ' +\n",
              "            '<a target=\"_blank\" href=https://colab.research.google.com/notebooks/data_table.ipynb>data table notebook</a>'\n",
              "            + ' to learn more about interactive tables.';\n",
              "          element.innerHTML = '';\n",
              "          dataTable['output_type'] = 'display_data';\n",
              "          await google.colab.output.renderOutput(dataTable, element);\n",
              "          const docLink = document.createElement('div');\n",
              "          docLink.innerHTML = docLinkHtml;\n",
              "          element.appendChild(docLink);\n",
              "        }\n",
              "      </script>\n",
              "    </div>\n",
              "  </div>\n",
              "  "
            ]
          },
          "metadata": {},
          "execution_count": 7
        }
      ]
    },
    {
      "cell_type": "markdown",
      "source": [
        "#Implemement Your kNN or SVM classifier Here!\n",
        "請比較分類結果中選出 topk 相近的筆數，並計算 forum_zh 是否都有在 query text 的 forum_zh 中\n",
        "\n",
        "> [開了新頻道] [Youtuber | 頻道 | 有趣 | 日常 | 搞笑]\n"
      ],
      "metadata": {
        "id": "c7OZYW3_Raeu"
      }
    },
    {
      "cell_type": "code",
      "source": [
        "from sklearn.feature_extraction.text import TfidfVectorizer\n",
        "from sklearn.model_selection import train_test_split\n",
        "tfidf_vec=TfidfVectorizer(max_df=0.8,max_features=100)"
      ],
      "metadata": {
        "id": "Hj2y_iKQGIis"
      },
      "execution_count": 8,
      "outputs": []
    },
    {
      "cell_type": "code",
      "source": [
        "with open(\"stopword.txt\",\"r\",encoding=\"utf8\") as f:\n",
        "  stopword=f.read()"
      ],
      "metadata": {
        "id": "fQraNVvkH1Gc"
      },
      "execution_count": 13,
      "outputs": []
    },
    {
      "cell_type": "code",
      "source": [
        "import jieba\n",
        "train_data=[]\n",
        "label_data=[]\n",
        "for i in range(360):\n",
        "  terms=df[\"title\"][i]+df[\"excerpt\"][i]\n",
        "  label=df[\"forum_zh\"][i]\n",
        "  tokens =[t for t in jieba.cut(terms,cut_all=False) if t not in stopword ]\n",
        "  content=\"\"\n",
        "  for j in tokens:\n",
        "    content+=j\n",
        "  train_data.append(content)\n",
        "  label_data.append(label)\n",
        "\n"
      ],
      "metadata": {
        "id": "LBLVVJF5GXP7"
      },
      "execution_count": 22,
      "outputs": []
    },
    {
      "cell_type": "code",
      "source": [
        "from sklearn.preprocessing import MultiLabelBinarizer\n",
        "multilabel_binary=MultiLabelBinarizer()\n",
        "multilabel_binary.fit(label_data)\n",
        "y=multilabel_binary.transform(label_data)"
      ],
      "metadata": {
        "id": "19nkeLqOIrgZ"
      },
      "execution_count": 23,
      "outputs": []
    },
    {
      "cell_type": "code",
      "source": [
        "xtrain,xval,ytrain,yval=train_test_split(train_data,y,random_state=87, test_size=0.1)"
      ],
      "metadata": {
        "id": "8Yuiw7haIw7Q"
      },
      "execution_count": 43,
      "outputs": []
    },
    {
      "cell_type": "code",
      "source": [
        "from itertools import chain\n",
        "xtrain_tfidf=tfidf_vec.fit_transform(xtrain)\n",
        "xval_tfidf=tfidf_vec.transform(xval)"
      ],
      "metadata": {
        "id": "bvoRYWcRJoEY"
      },
      "execution_count": 44,
      "outputs": []
    },
    {
      "cell_type": "code",
      "source": [
        "from sklearn.linear_model import LogisticRegression\n",
        "from sklearn.multiclass import OneVsRestClassifier\n",
        "from sklearn.metrics import f1_score\n",
        "lr=LogisticRegression()\n",
        "clf=OneVsRestClassifier(lr)"
      ],
      "metadata": {
        "id": "ndKk7X_zJukP"
      },
      "execution_count": 45,
      "outputs": []
    },
    {
      "cell_type": "code",
      "source": [
        "clf.fit(xtrain_tfidf,ytrain)"
      ],
      "metadata": {
        "colab": {
          "base_uri": "https://localhost:8080/",
          "height": 116
        },
        "id": "6QC-N-icJvn2",
        "outputId": "63fd34e2-3a8a-406c-fcdd-8f62162b6b36"
      },
      "execution_count": 46,
      "outputs": [
        {
          "output_type": "execute_result",
          "data": {
            "text/plain": [
              "OneVsRestClassifier(estimator=LogisticRegression())"
            ],
            "text/html": [
              "<style>#sk-container-id-4 {color: black;background-color: white;}#sk-container-id-4 pre{padding: 0;}#sk-container-id-4 div.sk-toggleable {background-color: white;}#sk-container-id-4 label.sk-toggleable__label {cursor: pointer;display: block;width: 100%;margin-bottom: 0;padding: 0.3em;box-sizing: border-box;text-align: center;}#sk-container-id-4 label.sk-toggleable__label-arrow:before {content: \"▸\";float: left;margin-right: 0.25em;color: #696969;}#sk-container-id-4 label.sk-toggleable__label-arrow:hover:before {color: black;}#sk-container-id-4 div.sk-estimator:hover label.sk-toggleable__label-arrow:before {color: black;}#sk-container-id-4 div.sk-toggleable__content {max-height: 0;max-width: 0;overflow: hidden;text-align: left;background-color: #f0f8ff;}#sk-container-id-4 div.sk-toggleable__content pre {margin: 0.2em;color: black;border-radius: 0.25em;background-color: #f0f8ff;}#sk-container-id-4 input.sk-toggleable__control:checked~div.sk-toggleable__content {max-height: 200px;max-width: 100%;overflow: auto;}#sk-container-id-4 input.sk-toggleable__control:checked~label.sk-toggleable__label-arrow:before {content: \"▾\";}#sk-container-id-4 div.sk-estimator input.sk-toggleable__control:checked~label.sk-toggleable__label {background-color: #d4ebff;}#sk-container-id-4 div.sk-label input.sk-toggleable__control:checked~label.sk-toggleable__label {background-color: #d4ebff;}#sk-container-id-4 input.sk-hidden--visually {border: 0;clip: rect(1px 1px 1px 1px);clip: rect(1px, 1px, 1px, 1px);height: 1px;margin: -1px;overflow: hidden;padding: 0;position: absolute;width: 1px;}#sk-container-id-4 div.sk-estimator {font-family: monospace;background-color: #f0f8ff;border: 1px dotted black;border-radius: 0.25em;box-sizing: border-box;margin-bottom: 0.5em;}#sk-container-id-4 div.sk-estimator:hover {background-color: #d4ebff;}#sk-container-id-4 div.sk-parallel-item::after {content: \"\";width: 100%;border-bottom: 1px solid gray;flex-grow: 1;}#sk-container-id-4 div.sk-label:hover label.sk-toggleable__label {background-color: #d4ebff;}#sk-container-id-4 div.sk-serial::before {content: \"\";position: absolute;border-left: 1px solid gray;box-sizing: border-box;top: 0;bottom: 0;left: 50%;z-index: 0;}#sk-container-id-4 div.sk-serial {display: flex;flex-direction: column;align-items: center;background-color: white;padding-right: 0.2em;padding-left: 0.2em;position: relative;}#sk-container-id-4 div.sk-item {position: relative;z-index: 1;}#sk-container-id-4 div.sk-parallel {display: flex;align-items: stretch;justify-content: center;background-color: white;position: relative;}#sk-container-id-4 div.sk-item::before, #sk-container-id-4 div.sk-parallel-item::before {content: \"\";position: absolute;border-left: 1px solid gray;box-sizing: border-box;top: 0;bottom: 0;left: 50%;z-index: -1;}#sk-container-id-4 div.sk-parallel-item {display: flex;flex-direction: column;z-index: 1;position: relative;background-color: white;}#sk-container-id-4 div.sk-parallel-item:first-child::after {align-self: flex-end;width: 50%;}#sk-container-id-4 div.sk-parallel-item:last-child::after {align-self: flex-start;width: 50%;}#sk-container-id-4 div.sk-parallel-item:only-child::after {width: 0;}#sk-container-id-4 div.sk-dashed-wrapped {border: 1px dashed gray;margin: 0 0.4em 0.5em 0.4em;box-sizing: border-box;padding-bottom: 0.4em;background-color: white;}#sk-container-id-4 div.sk-label label {font-family: monospace;font-weight: bold;display: inline-block;line-height: 1.2em;}#sk-container-id-4 div.sk-label-container {text-align: center;}#sk-container-id-4 div.sk-container {/* jupyter's `normalize.less` sets `[hidden] { display: none; }` but bootstrap.min.css set `[hidden] { display: none !important; }` so we also need the `!important` here to be able to override the default hidden behavior on the sphinx rendered scikit-learn.org. See: https://github.com/scikit-learn/scikit-learn/issues/21755 */display: inline-block !important;position: relative;}#sk-container-id-4 div.sk-text-repr-fallback {display: none;}</style><div id=\"sk-container-id-4\" class=\"sk-top-container\"><div class=\"sk-text-repr-fallback\"><pre>OneVsRestClassifier(estimator=LogisticRegression())</pre><b>In a Jupyter environment, please rerun this cell to show the HTML representation or trust the notebook. <br />On GitHub, the HTML representation is unable to render, please try loading this page with nbviewer.org.</b></div><div class=\"sk-container\" hidden><div class=\"sk-item sk-dashed-wrapped\"><div class=\"sk-label-container\"><div class=\"sk-label sk-toggleable\"><input class=\"sk-toggleable__control sk-hidden--visually\" id=\"sk-estimator-id-10\" type=\"checkbox\" ><label for=\"sk-estimator-id-10\" class=\"sk-toggleable__label sk-toggleable__label-arrow\">OneVsRestClassifier</label><div class=\"sk-toggleable__content\"><pre>OneVsRestClassifier(estimator=LogisticRegression())</pre></div></div></div><div class=\"sk-parallel\"><div class=\"sk-parallel-item\"><div class=\"sk-item\"><div class=\"sk-label-container\"><div class=\"sk-label sk-toggleable\"><input class=\"sk-toggleable__control sk-hidden--visually\" id=\"sk-estimator-id-11\" type=\"checkbox\" ><label for=\"sk-estimator-id-11\" class=\"sk-toggleable__label sk-toggleable__label-arrow\">estimator: LogisticRegression</label><div class=\"sk-toggleable__content\"><pre>LogisticRegression()</pre></div></div></div><div class=\"sk-serial\"><div class=\"sk-item\"><div class=\"sk-estimator sk-toggleable\"><input class=\"sk-toggleable__control sk-hidden--visually\" id=\"sk-estimator-id-12\" type=\"checkbox\" ><label for=\"sk-estimator-id-12\" class=\"sk-toggleable__label sk-toggleable__label-arrow\">LogisticRegression</label><div class=\"sk-toggleable__content\"><pre>LogisticRegression()</pre></div></div></div></div></div></div></div></div></div></div>"
            ]
          },
          "metadata": {},
          "execution_count": 46
        }
      ]
    },
    {
      "cell_type": "code",
      "source": [
        "t = 0.1\n",
        "y_pred = clf.predict(xval_tfidf)\n",
        "y_pred_prob = clf.predict_proba(xval_tfidf)\n",
        "y_pred_new = (y_pred_prob >= t).astype(int)\n",
        "value=f1_score(yval, y_pred_new, average=\"micro\")"
      ],
      "metadata": {
        "id": "PecWcMHZJ4q_"
      },
      "execution_count": 53,
      "outputs": []
    },
    {
      "cell_type": "code",
      "source": [
        "value"
      ],
      "metadata": {
        "colab": {
          "base_uri": "https://localhost:8080/"
        },
        "id": "wH6lllH3J8mN",
        "outputId": "92e05476-efcc-4e46-dfac-30564f3a41f5"
      },
      "execution_count": 54,
      "outputs": [
        {
          "output_type": "execute_result",
          "data": {
            "text/plain": [
              "0.2197802197802198"
            ]
          },
          "metadata": {},
          "execution_count": 54
        }
      ]
    },
    {
      "cell_type": "code",
      "source": [
        "precision = 0\n",
        "topk = 10\n",
        "\n",
        "# YOUR CODE HERE! \n",
        "# IMPLEMENTIG TRIE IN PYTHON\n",
        "\n",
        "\n",
        "\n",
        "\n",
        "\n",
        "\n",
        "\n",
        "\n",
        "# # DO NOT MODIFY THE BELOW LINE!\n",
        "print(\"precision = \", precision/topk)\n"
      ],
      "metadata": {
        "id": "oMi2G8aURYWQ"
      },
      "execution_count": null,
      "outputs": []
    }
  ]
}