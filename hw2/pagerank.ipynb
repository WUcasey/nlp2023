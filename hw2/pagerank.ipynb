{
  "nbformat": 4,
  "nbformat_minor": 0,
  "metadata": {
    "colab": {
      "provenance": []
    },
    "kernelspec": {
      "name": "python3",
      "display_name": "Python 3"
    },
    "language_info": {
      "name": "python"
    }
  },
  "cells": [
    {
      "cell_type": "code",
      "source": [
        "import jieba\n",
        "import json"
      ],
      "metadata": {
        "id": "S6CrcWFxX3ej"
      },
      "execution_count": 1,
      "outputs": []
    },
    {
      "cell_type": "code",
      "source": [
        "with open(\"movieinfo.json\") as movie:\n",
        "  movie_info=json.load(movie) \n",
        "with open(\"stopword.txt\",\"r\",encoding=\"utf8\") as f:\n",
        "  stopword=f.read()"
      ],
      "metadata": {
        "id": "1OtMCd5LX7HH"
      },
      "execution_count": 73,
      "outputs": []
    },
    {
      "cell_type": "code",
      "source": [
        "import random\n",
        "movie_links_list=[]\n",
        "movie_link=[]\n",
        "for i in range(len(movie_info)):\n",
        "  movie_link.append(movie_info[i][\"movie_url\"])\n",
        "for i in range(len(movie_info)):\n",
        "  links=[]\n",
        "  for j in range(5):\n",
        "    x = random.randint(6123,14000)\n",
        "    url=\"https://movies.yahoo.com.tw/movieinfo_main/\"+str(x)\n",
        "    if url in movie_link:\n",
        "      links.append(url)\n",
        "    else:\n",
        "      j-=1\n",
        "  movie_links_list.append(links)\n",
        "\n"
      ],
      "metadata": {
        "id": "lBIG-g9CX8AG"
      },
      "execution_count": 4,
      "outputs": []
    },
    {
      "cell_type": "code",
      "source": [
        "connect={}\n",
        "for i in range(len(movie_link)):\n",
        "  connect.update({movie_link[i]:movie_links_list[i]})"
      ],
      "metadata": {
        "id": "WDBzq6Mvc2MZ"
      },
      "execution_count": 36,
      "outputs": []
    },
    {
      "cell_type": "code",
      "source": [
        "import numpy as np \n",
        "import networkx as nx"
      ],
      "metadata": {
        "id": "qzzR4boWeKov"
      },
      "execution_count": 61,
      "outputs": []
    },
    {
      "cell_type": "code",
      "source": [
        "def  nodes2matrix(node_json):\n",
        "    node2id = {}\n",
        "    dim = len(node_json)\n",
        "    for id_ , key in enumerate(node_json.keys()):\n",
        "        node2id[key] = id_   \n",
        "    matrix = np.zeros((dim,dim))\n",
        "    for key in node_json.keys():\n",
        "        nodeid = node2id[key]\n",
        "        for neighbor in node_json[key]:\n",
        "            neighborid = node2id[neighbor]\n",
        "            matrix[neighborid][nodeid] = 1\n",
        "    for i in range(dim):\n",
        "        matrix[:,i] = matrix[:,i]/sum(matrix[:,i])\n",
        "    return matrix"
      ],
      "metadata": {
        "id": "ptUllrAVfxL4"
      },
      "execution_count": 38,
      "outputs": []
    },
    {
      "cell_type": "code",
      "source": [
        "def pagerank(matrix, iter_ = 10, d=0.85):\n",
        "    length = len(matrix[0])\n",
        "    inital_value = np.ones(length)/length\n",
        "    pagerank_value = inital_value\n",
        "    for i in range(10):\n",
        "        pagerank_value = matrix@pagerank_value* d  +  (1-d)/length\n",
        "    return pagerank_value"
      ],
      "metadata": {
        "id": "WwwLk_bFf8RI"
      },
      "execution_count": 63,
      "outputs": []
    },
    {
      "cell_type": "code",
      "source": [
        "matrix = nodes2matrix(connect)"
      ],
      "metadata": {
        "id": "mP0v48--gMKJ"
      },
      "execution_count": 72,
      "outputs": []
    },
    {
      "cell_type": "code",
      "source": [
        "my_rank=pagerank(matrix)"
      ],
      "metadata": {
        "id": "cWAd6f2Uks5w"
      },
      "execution_count": 67,
      "outputs": []
    },
    {
      "cell_type": "code",
      "source": [
        "movie_all_info=[]\n",
        "for i in range(len(movie_info)):\n",
        "  id=i+1\n",
        "  ch=movie_info[i][\"ch_name\"]\n",
        "  en=movie_info[i][\"en_name\"]\n",
        "  url=movie_info[i][\"movie_url\"]\n",
        "  date=movie_info[i][\"release_date\"]\n",
        "  intro=movie_info[i][\"intro\"]\n",
        "  links=movie_links_list[i]\n",
        "  my_pagerank=my_rank[i]\n",
        "  label=movie_info[i][\"label\"]\n",
        "  movie_all_info.append({\"id\":id,\"ch_name\":ch,\"en_name\":en,\"url\":url,\"release_date\":date,\"intro\":intro,\"links\":links,\"label\":label,\"pagerank\":my_pagerank})\n",
        "with open(\"movie_all_info.json\",\"w\") as f:\n",
        "  json.dump(movie_all_info,f)\n"
      ],
      "metadata": {
        "id": "oACrvecZoOn5"
      },
      "execution_count": 74,
      "outputs": []
    },
    {
      "cell_type": "code",
      "source": [
        "print(movie_all_info[0])"
      ],
      "metadata": {
        "colab": {
          "base_uri": "https://localhost:8080/"
        },
        "id": "D_DqyswCoesN",
        "outputId": "a4dba1f0-a986-4188-de54-43707155e5a5"
      },
      "execution_count": 76,
      "outputs": [
        {
          "output_type": "stream",
          "name": "stdout",
          "text": [
            "{'id': 1, 'ch_name': '辣手警探', 'en_name': 'Veteran', 'url': 'https://movies.yahoo.com.tw/movieinfo_main/6123', 'release_date': '2016-03-0', 'intro': '★韓國年度票房冠軍，勇飆1341萬人次，打進影史第三名！網友影評爽快盛讚！★《辣手警探》導演柳承菀，勇奪青龍獎最佳導演！★《柏林諜變》商業大導柳承菀，聯手票房巨星黃正民、演技派男神新科青龍獎影帝-劉亞仁，打造最生猛有力的犯罪動作強檔！續集積極準備中！使命必達的行動派-徐道哲(黃正民飾)、20年老鳥警探-吳隊長(吳達庶飾)、肉搏派-王刑警(吳大煥飾)、老么尹刑警(金時厚飾演)與嗆辣女警(李允珠飾演)等，這五人沒有一絲畏懼、沒有抓不到的壞蛋也沒有任何寬恕，他們是-特殊案件搜查隊。終於解決了國際汽車竊盜案後，以為好不容易能夠喘口氣時，但協助道哲偵辦汽車竊盜案的裴司機和他的九歲兒子，兩人為了拖欠薪水之事向財閥二世趙泰晤(劉亞仁飾)抗議，卻被泰晤毆打入院，自認對兩人有責任的道哲，決心將泰晤，還有他的左右手崔常務(柳海真飾)緝捕到案，卻意外發現泰晤此案件並不單純，道哲無視所有的威脅、警告，卻掉入趙泰晤所設下的圈套裡…天不怕地不怕老鳥警探VS.唯我獨尊的財閥二世，一場正義對決即將展開！', 'links': ['https://movies.yahoo.com.tw/movieinfo_main/13423', 'https://movies.yahoo.com.tw/movieinfo_main/8598', 'https://movies.yahoo.com.tw/movieinfo_main/13055', 'https://movies.yahoo.com.tw/movieinfo_main/6635', 'https://movies.yahoo.com.tw/movieinfo_main/9361'], 'label': ['劇情', '犯罪'], 'pagerank': 0.00015658648769140712}\n"
          ]
        }
      ]
    }
  ]
}