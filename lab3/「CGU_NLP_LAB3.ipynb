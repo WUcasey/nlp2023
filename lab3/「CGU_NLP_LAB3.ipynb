{
  "nbformat": 4,
  "nbformat_minor": 0,
  "metadata": {
    "colab": {
      "provenance": []
    },
    "kernelspec": {
      "name": "python3",
      "display_name": "Python 3"
    }
  },
  "cells": [
    {
      "cell_type": "markdown",
      "metadata": {
        "id": "SgNZTjrhcHa0"
      },
      "source": [
        "## Lab#3, NLP@CGU Spring 2023\n",
        "\n",
        "### This is due on 2023/03/20 16:00, commit to your github as a PDF (lab3.pdf) (File>Print>Save as PDF). \n",
        "\n",
        "#### IMPORTANT: After copying this notebook to your Google Drive, please paste a link to it below. To get a publicly-accessible link, hit the *Share* button at the top right, then click \"Get shareable link\" and copy over the result. If you fail to do this, you will receive no credit for this lab!\n",
        "\n",
        "***LINK: *paste your link here****\n",
        "####https://colab.research.google.com/drive/1Ot0oUt6NdtPdYgnkBO71Dlcz0gf9OBSh?usp=sharing\n",
        "\n",
        "---"
      ]
    },
    {
      "cell_type": "markdown",
      "metadata": {
        "id": "hpg8eU9wNBci"
      },
      "source": [
        "**Student ID**:\n",
        "B0929038\n",
        "**Name**:\n",
        "吳安捷\n",
        "\n",
        "\n"
      ]
    },
    {
      "cell_type": "markdown",
      "metadata": {
        "id": "r1_cCBOwfPxI"
      },
      "source": [
        "##Question 1 (100 points)\n",
        "Implementing Yahoo Movies Crawler.\n",
        "\n",
        "1. Design a Yahoo! Movie Crawler.\n",
        "2. Crawl all the movie information listed in movie_intheaters page\n",
        "3. The more movie data crawled, the higher the score\n",
        "\n",
        "---"
      ]
    },
    {
      "cell_type": "markdown",
      "source": [],
      "metadata": {
        "id": "STVNzF0frsX8"
      }
    },
    {
      "cell_type": "code",
      "metadata": {
        "id": "W9Fm6AQJQDFa",
        "colab": {
          "base_uri": "https://localhost:8080/"
        },
        "outputId": "64c2f5e1-84b6-4ceb-e172-5e0206b6454b"
      },
      "source": [
        "import requests\n",
        "import re\n",
        "from bs4 import BeautifulSoup\n",
        "\n",
        "Y_MOVIE_URL = \"https://movies.yahoo.com.tw/movie_intheaters.html\"\n",
        "\n",
        "# YOUR CODE HERE! \n",
        "# IMPLEMENTIG YAHOO MOVIES CRAWLER\n",
        "\n",
        "class MovieCrawler(object):\n",
        "\n",
        "    # def __init__(self):\n",
        "    \n",
        "    def get_movies(self, page_url):\n",
        "      movies_info={}\n",
        "      resp = requests.get(page_url)\n",
        "      text=BeautifulSoup(resp.text)\n",
        "      #find all movie page\n",
        "      links=text.find(\"div\",class_=\"page_numbox\")\n",
        "      links=links.find_all(\"a\")\n",
        "      movie_pages=[\"https://movies.yahoo.com.tw/movie_intheaters.html\"]\n",
        "      for link in links:\n",
        "        if link['href'] not in movie_pages:\n",
        "          movie_pages.append(link['href'])\n",
        "      #find movies in one page\n",
        "      mv_page=\"https://movies.yahoo.com.tw/movie_intheaters.html\"\n",
        "      resp = requests.get(mv_page)\n",
        "      text=BeautifulSoup(resp.text)\n",
        "      links=text.find_all(\"div\",class_=\"en\")\n",
        "      movie_links=[]\n",
        "      for link in links:\n",
        "        link=link.find(\"a\")\n",
        "        if link[\"href\"] not in movie_links:\n",
        "          movie_links.append(link['href'])\n",
        "      #movie info\n",
        "      movie_link=movie_links[0]\n",
        "      resp = requests.get(movie_link)\n",
        "      text=BeautifulSoup(resp.text)\n",
        "      content=text.find(\"div\",class_=\"movie_intro_info_r\")\n",
        "      ch_name=content.find(\"h1\").text\n",
        "      en_name=content.find(\"h3\").text\n",
        "      movie_url=movie_link\n",
        "      spans=text.find_all(\"span\")\n",
        "      for span in spans:\n",
        "        if not span.text.find(\"上映日期\"):\n",
        "          release_date=span.text[5:-1]\n",
        "          break\n",
        "      intro=text.find(\"span\",id=\"story\")\n",
        "      intro=intro.text\n",
        "      movies_info.add([ch_name:ch_name,en_name:en_name])\n",
        "      # print(ch_name,en_name,movie_url)\n",
        "      \n",
        "      \n",
        "\n",
        "\n",
        "# # DO NOT MODIFY THE VARIABLES\n",
        "crawler = MovieCrawler()\n",
        "movies = crawler.get_movies(Y_MOVIE_URL)\n",
        "\n",
        "# # THE RESULTS : AS THE FOLLOWING SECTION\n",
        "# # {'ch_name', 'en_name', 'movie_url', 'release_date', 'intro'}\n",
        "# print(len(movies))\n",
        "# print(*movies, sep=\"\\n\")"
      ],
      "execution_count": 56,
      "outputs": [
        {
          "output_type": "stream",
          "name": "stdout",
          "text": [
            "\n",
            "            ★義大利奧斯卡大衛獎最佳紀錄片、最佳剪輯、最佳音效三項大獎\r\n",
            "★義大利國家影評協會年度銀絲帶獎\r\n",
            "★義大利巴里國際影展最佳導演\r\n",
            "★加爾各答國際邪典電影節最佳紀錄片\n",
            "\r\n",
            "他是最具影響力的音樂家，\r\n",
            "2座奧斯卡獎得主，500多首令人難忘的電影配樂家…\n",
            "\r\n",
            "《配樂大師顏尼歐》是全球最知名和受人喜愛的音樂大師顏尼歐莫利克奈的傳記電影。電影製作歷時5年、橫跨歐美進行拍攝，透過音樂和檔案片段講述了一代音樂巨匠莫利克奈的人生故事和音樂奇遇，並揭露其鮮為人知一面：例如他對西洋棋的熱愛，以及與他的音樂有某種神秘的關聯。片中除揭示他音樂作品的靈感來源，也展現他對音樂的純粹熱愛，以及不斷嘗試的使命感，成就了音樂發明的天賦。\n",
            "\r\n",
            "顏尼歐莫利克奈是20世紀最具影響力和最多產的音樂家之一，兩項奧斯卡獎的獲得者，以及500多首令人難忘的電影配樂的作曲家，本片則堪稱是他最完整肖像電影。奧斯卡導演托納多雷片中訪問了包括與莫利克奈合作過的王家衛、昆汀塔倫蒂諾、納多托魯奇、克林伊斯威特及布魯斯史普林斯汀等70多位世界頂級電影、音樂大師及藝術家，再加上電影場景、音樂以及歷史影像，完整呈現顏尼歐莫利克奈一生的全貌。\n",
            "          \n"
          ]
        }
      ]
    }
  ]
}